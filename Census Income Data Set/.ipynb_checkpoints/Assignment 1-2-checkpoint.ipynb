{
 "cells": [
  {
   "cell_type": "code",
   "execution_count": 1,
   "id": "8d8a9653",
   "metadata": {},
   "outputs": [],
   "source": [
    "import pandas as pd\n",
    "import numpy as np\n",
    "import torch\n",
    "from sklearn.model_selection import train_test_split\n",
    "from sklearn.preprocessing import StandardScaler, LabelEncoder\n",
    "import time\n",
    "\n",
    "# Load dataset\n",
    "column_names = ['age', 'workclass', 'fnlwgt', 'education', 'education-num', 'marital-status', \n",
    "                'occupation', 'relationship', 'race', 'sex', 'capital-gain', 'capital-loss', \n",
    "                'hours-per-week', 'native-country', 'income']\n",
    "\n",
    "train_data = pd.read_csv('adult.data', names=column_names, sep=',', skipinitialspace=True)\n",
    "test_data = pd.read_csv('adult.test', names=column_names, sep=',', skipinitialspace=True, skiprows=1)\n",
    "\n",
    "# Handling missing values - replace \"?\" with NaN\n",
    "train_data.replace('?', np.nan, inplace=True)\n",
    "test_data.replace('?', np.nan, inplace=True)\n",
    "\n",
    "# Dropping rows with missing values\n",
    "train_data.dropna(inplace=True)\n",
    "test_data.dropna(inplace=True)\n",
    "\n",
    "# Clean the income labels in the test data by removing any trailing '.' characters\n",
    "test_data['income'] = test_data['income'].str.replace('.', '', regex=False)\n",
    "\n",
    "# Convert categorical features to numerical using LabelEncoder\n",
    "for column in train_data.select_dtypes(include=['object']).columns:\n",
    "    le = LabelEncoder()\n",
    "    train_data[column] = le.fit_transform(train_data[column])\n",
    "    test_data[column] = le.transform(test_data[column])\n",
    "\n",
    "# Splitting features and labels\n",
    "X_train = train_data.drop('income', axis=1)\n",
    "y_train = train_data['income']\n",
    "X_test = test_data.drop('income', axis=1)\n",
    "y_test = test_data['income']\n",
    "\n",
    "# Standardize the features\n",
    "scaler = StandardScaler()\n",
    "X_train = scaler.fit_transform(X_train)\n",
    "X_test = scaler.transform(X_test)\n",
    "\n",
    "# Convert to PyTorch tensors\n",
    "X_train = torch.tensor(X_train, dtype=torch.float32)\n",
    "y_train = torch.tensor(y_train.values, dtype=torch.float32).unsqueeze(1)\n",
    "X_test = torch.tensor(X_test, dtype=torch.float32)\n",
    "y_test = torch.tensor(y_test.values, dtype=torch.float32).unsqueeze(1)\n"
   ]
  },
  {
   "cell_type": "code",
   "execution_count": 2,
   "id": "90799d84",
   "metadata": {},
   "outputs": [
    {
     "name": "stdout",
     "output_type": "stream",
     "text": [
      "Epoch 10/100, Loss: 0.7897639870643616\n",
      "Epoch 20/100, Loss: 0.76860511302948\n",
      "Epoch 30/100, Loss: 0.7488875985145569\n",
      "Epoch 40/100, Loss: 0.7305225729942322\n",
      "Epoch 50/100, Loss: 0.7134212851524353\n",
      "Epoch 60/100, Loss: 0.6974971890449524\n",
      "Epoch 70/100, Loss: 0.6826661229133606\n",
      "Epoch 80/100, Loss: 0.6688476204872131\n",
      "Epoch 90/100, Loss: 0.655965268611908\n",
      "Epoch 100/100, Loss: 0.643947422504425\n",
      "Training Time (Logistic Regression): 0.3749 seconds\n"
     ]
    }
   ],
   "source": [
    "import torch.nn as nn\n",
    "import torch.optim as optim\n",
    "\n",
    "# Define the Logistic Regression model\n",
    "class LogisticRegressionModel(nn.Module):\n",
    "    def __init__(self, input_dim):\n",
    "        super(LogisticRegressionModel, self).__init__()\n",
    "        self.linear = nn.Linear(input_dim, 1)\n",
    "\n",
    "    def forward(self, x):\n",
    "        return torch.sigmoid(self.linear(x))\n",
    "\n",
    "# Initialize model\n",
    "input_dim = X_train.shape[1]\n",
    "logistic_model = LogisticRegressionModel(input_dim)\n",
    "\n",
    "# Loss and optimizer\n",
    "criterion = nn.BCELoss()\n",
    "optimizer = optim.SGD(logistic_model.parameters(), lr=0.01)\n",
    "\n",
    "# Training the model\n",
    "def train_model(model, X_train, y_train, epochs=100):\n",
    "    for epoch in range(epochs):\n",
    "        model.train()\n",
    "        optimizer.zero_grad()\n",
    "        outputs = model(X_train)\n",
    "        loss = criterion(outputs, y_train)\n",
    "        loss.backward()\n",
    "        optimizer.step()\n",
    "        \n",
    "        if (epoch+1) % 10 == 0:\n",
    "            print(f'Epoch {epoch+1}/{epochs}, Loss: {loss.item()}')\n",
    "\n",
    "# Train logistic regression model\n",
    "start_time = time.time()\n",
    "train_model(logistic_model, X_train, y_train)\n",
    "logistic_training_time = time.time() - start_time\n",
    "print(f\"Training Time (Logistic Regression): {logistic_training_time:.4f} seconds\")\n",
    "    "
   ]
  },
  {
   "cell_type": "code",
   "execution_count": 3,
   "id": "65e66c30",
   "metadata": {},
   "outputs": [
    {
     "name": "stdout",
     "output_type": "stream",
     "text": [
      "Training Time (Decision Tree Classifier): 0.1103 seconds\n"
     ]
    }
   ],
   "source": [
    "from sklearn.tree import DecisionTreeClassifier\n",
    "from sklearn.metrics import accuracy_score, precision_score, recall_score, f1_score\n",
    "\n",
    "# Initialize and train Decision Tree\n",
    "decision_tree = DecisionTreeClassifier(max_depth=10, random_state=42)\n",
    "start_time = time.time()\n",
    "decision_tree.fit(X_train.numpy(), y_train.numpy().ravel())\n",
    "tree_training_time = time.time() - start_time\n",
    "print(f\"Training Time (Decision Tree Classifier): {tree_training_time:.4f} seconds\")"
   ]
  },
  {
   "cell_type": "code",
   "execution_count": 4,
   "id": "da526d2e",
   "metadata": {},
   "outputs": [
    {
     "name": "stdout",
     "output_type": "stream",
     "text": [
      "Logistic Regression - Train Accuracy: 0.6393, Test Accuracy: 0.6360\n",
      "Decision Tree - Train Accuracy: 0.8654, Test Accuracy: 0.8482\n",
      "Logistic Regression - Precision: 0.3416, Recall: 0.5192, F1: 0.4121\n",
      "Decision Tree - Precision: 0.7158, Recall: 0.6338, F1: 0.6723\n"
     ]
    }
   ],
   "source": [
    "# Logistic Regression Evaluation\n",
    "logistic_model.eval()\n",
    "with torch.no_grad():\n",
    "    y_pred_train_logistic = (logistic_model(X_train) >= 0.5).float()\n",
    "    y_pred_test_logistic = (logistic_model(X_test) >= 0.5).float()\n",
    "\n",
    "logistic_train_acc = (y_pred_train_logistic.eq(y_train).sum() / y_train.shape[0]).item()\n",
    "logistic_test_acc = (y_pred_test_logistic.eq(y_test).sum() / y_test.shape[0]).item()\n",
    "\n",
    "print(f'Logistic Regression - Train Accuracy: {logistic_train_acc:.4f}, Test Accuracy: {logistic_test_acc:.4f}')\n",
    "\n",
    "# Decision Tree Evaluation\n",
    "y_pred_train_tree = decision_tree.predict(X_train.numpy())\n",
    "y_pred_test_tree = decision_tree.predict(X_test.numpy())\n",
    "\n",
    "tree_train_acc = accuracy_score(y_train, y_pred_train_tree)\n",
    "tree_test_acc = accuracy_score(y_test, y_pred_test_tree)\n",
    "\n",
    "print(f'Decision Tree - Train Accuracy: {tree_train_acc:.4f}, Test Accuracy: {tree_test_acc:.4f}')\n",
    "\n",
    "# Other performance metrics (precision, recall, f1)\n",
    "logistic_test_precision = precision_score(y_test, y_pred_test_logistic.numpy())\n",
    "logistic_test_recall = recall_score(y_test, y_pred_test_logistic.numpy())\n",
    "logistic_test_f1 = f1_score(y_test, y_pred_test_logistic.numpy())\n",
    "\n",
    "tree_test_precision = precision_score(y_test, y_pred_test_tree)\n",
    "tree_test_recall = recall_score(y_test, y_pred_test_tree)\n",
    "tree_test_f1 = f1_score(y_test, y_pred_test_tree)\n",
    "\n",
    "print(f'Logistic Regression - Precision: {logistic_test_precision:.4f}, Recall: {logistic_test_recall:.4f}, F1: {logistic_test_f1:.4f}')\n",
    "print(f'Decision Tree - Precision: {tree_test_precision:.4f}, Recall: {tree_test_recall:.4f}, F1: {tree_test_f1:.4f}')\n"
   ]
  },
  {
   "cell_type": "code",
   "execution_count": 5,
   "id": "bb71a263",
   "metadata": {},
   "outputs": [
    {
     "data": {
      "image/png": "[encoded data removed]",
      "text/plain": [
       "<Figure size 864x432 with 1 Axes>"
      ]
     },
     "metadata": {
      "needs_background": "light"
     },
     "output_type": "display_data"
    },
    {
     "data": {
      "image/png": "[encoded data removed]",
      "text/plain": [
       "<Figure size 864x432 with 1 Axes>"
      ]
     },
     "metadata": {
      "needs_background": "light"
     },
     "output_type": "display_data"
    }
   ],
   "source": [
    "import matplotlib.pyplot as plt\n",
    "import numpy as np\n",
    "\n",
    "# Evaluation metrics\n",
    "models = ['Logistic Regression', 'Decision Tree']\n",
    "train_accuracies = [logistic_train_acc, tree_train_acc]\n",
    "test_accuracies = [logistic_test_acc, tree_test_acc]\n",
    "precisions = [logistic_test_precision, tree_test_precision]\n",
    "recalls = [logistic_test_recall, tree_test_recall]\n",
    "f1_scores = [logistic_test_f1, tree_test_f1]\n",
    "\n",
    "# Plotting accuracy comparison\n",
    "plt.figure(figsize=(12, 6))\n",
    "bar_width = 0.35\n",
    "index = np.arange(len(models))\n",
    "\n",
    "plt.bar(index, train_accuracies, bar_width, label='Train Accuracy', alpha=0.7)\n",
    "plt.bar(index + bar_width, test_accuracies, bar_width, label='Test Accuracy', alpha=0.7)\n",
    "\n",
    "plt.xlabel('Models')\n",
    "plt.ylabel('Accuracy')\n",
    "plt.title('Train and Test Accuracy Comparison')\n",
    "plt.xticks(index + bar_width / 2, models)\n",
    "plt.legend()\n",
    "plt.show()\n",
    "\n",
    "# Plotting precision, recall, and F1-score comparison\n",
    "plt.figure(figsize=(12, 6))\n",
    "\n",
    "bar_width = 0.2\n",
    "index = np.arange(len(models))\n",
    "\n",
    "plt.bar(index, precisions, bar_width, label='Precision', alpha=0.7)\n",
    "plt.bar(index + bar_width, recalls, bar_width, label='Recall', alpha=0.7)\n",
    "plt.bar(index + 2 * bar_width, f1_scores, bar_width, label='F1 Score', alpha=0.7)\n",
    "\n",
    "plt.xlabel('Models')\n",
    "plt.ylabel('Score')\n",
    "plt.title('Precision, Recall, and F1 Score Comparison')\n",
    "plt.xticks(index + bar_width, models)\n",
    "plt.legend()\n",
    "plt.show()\n"
   ]
  },
  {
   "cell_type": "code",
   "execution_count": null,
   "id": "d0b18d91",
   "metadata": {},
   "outputs": [],
   "source": []
  }
 ],
 "metadata": {
  "kernelspec": {
   "display_name": "Python 3 (ipykernel)",
   "language": "python",
   "name": "python3"
  },
  "language_info": {
   "codemirror_mode": {
    "name": "ipython",
    "version": 3
   },
   "file_extension": ".py",
   "mimetype": "text/x-python",
   "name": "python",
   "nbconvert_exporter": "python",
   "pygments_lexer": "ipython3",
   "version": "3.9.12"
  }
 },
 "nbformat": 4,
 "nbformat_minor": 5
}
